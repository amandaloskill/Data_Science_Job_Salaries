{
 "cells": [
  {
   "cell_type": "markdown",
   "id": "337a662b",
   "metadata": {},
   "source": [
    "# Importing libraries and dataset"
   ]
  },
  {
   "cell_type": "code",
   "execution_count": 2,
   "id": "00cd56f4",
   "metadata": {},
   "outputs": [],
   "source": [
    "#Importing libraries\n",
    "\n",
    "import pandas as pd\n",
    "import numpy as np\n",
    "import matplotlib.pyplot as plt\n",
    "import seaborn as sns"
   ]
  },
  {
   "cell_type": "code",
   "execution_count": 3,
   "id": "d66b281c",
   "metadata": {},
   "outputs": [],
   "source": [
    "#Importing dataset\n",
    "\n",
    "salary = pd.read_csv('Desktop/ds_salaries.csv')"
   ]
  },
  {
   "cell_type": "code",
   "execution_count": 4,
   "id": "721277f5",
   "metadata": {},
   "outputs": [
    {
     "data": {
      "text/html": [
       "<div>\n",
       "<style scoped>\n",
       "    .dataframe tbody tr th:only-of-type {\n",
       "        vertical-align: middle;\n",
       "    }\n",
       "\n",
       "    .dataframe tbody tr th {\n",
       "        vertical-align: top;\n",
       "    }\n",
       "\n",
       "    .dataframe thead th {\n",
       "        text-align: right;\n",
       "    }\n",
       "</style>\n",
       "<table border=\"1\" class=\"dataframe\">\n",
       "  <thead>\n",
       "    <tr style=\"text-align: right;\">\n",
       "      <th></th>\n",
       "      <th>Unnamed: 0</th>\n",
       "      <th>work_year</th>\n",
       "      <th>experience_level</th>\n",
       "      <th>employment_type</th>\n",
       "      <th>job_title</th>\n",
       "      <th>salary</th>\n",
       "      <th>salary_currency</th>\n",
       "      <th>salary_in_usd</th>\n",
       "      <th>employee_residence</th>\n",
       "      <th>remote_ratio</th>\n",
       "      <th>company_location</th>\n",
       "      <th>company_size</th>\n",
       "    </tr>\n",
       "  </thead>\n",
       "  <tbody>\n",
       "    <tr>\n",
       "      <th>0</th>\n",
       "      <td>0</td>\n",
       "      <td>2020</td>\n",
       "      <td>MI</td>\n",
       "      <td>FT</td>\n",
       "      <td>Data Scientist</td>\n",
       "      <td>70000</td>\n",
       "      <td>EUR</td>\n",
       "      <td>79833</td>\n",
       "      <td>DE</td>\n",
       "      <td>0</td>\n",
       "      <td>DE</td>\n",
       "      <td>L</td>\n",
       "    </tr>\n",
       "    <tr>\n",
       "      <th>1</th>\n",
       "      <td>1</td>\n",
       "      <td>2020</td>\n",
       "      <td>SE</td>\n",
       "      <td>FT</td>\n",
       "      <td>Machine Learning Scientist</td>\n",
       "      <td>260000</td>\n",
       "      <td>USD</td>\n",
       "      <td>260000</td>\n",
       "      <td>JP</td>\n",
       "      <td>0</td>\n",
       "      <td>JP</td>\n",
       "      <td>S</td>\n",
       "    </tr>\n",
       "    <tr>\n",
       "      <th>2</th>\n",
       "      <td>2</td>\n",
       "      <td>2020</td>\n",
       "      <td>SE</td>\n",
       "      <td>FT</td>\n",
       "      <td>Big Data Engineer</td>\n",
       "      <td>85000</td>\n",
       "      <td>GBP</td>\n",
       "      <td>109024</td>\n",
       "      <td>GB</td>\n",
       "      <td>50</td>\n",
       "      <td>GB</td>\n",
       "      <td>M</td>\n",
       "    </tr>\n",
       "    <tr>\n",
       "      <th>3</th>\n",
       "      <td>3</td>\n",
       "      <td>2020</td>\n",
       "      <td>MI</td>\n",
       "      <td>FT</td>\n",
       "      <td>Product Data Analyst</td>\n",
       "      <td>20000</td>\n",
       "      <td>USD</td>\n",
       "      <td>20000</td>\n",
       "      <td>HN</td>\n",
       "      <td>0</td>\n",
       "      <td>HN</td>\n",
       "      <td>S</td>\n",
       "    </tr>\n",
       "    <tr>\n",
       "      <th>4</th>\n",
       "      <td>4</td>\n",
       "      <td>2020</td>\n",
       "      <td>SE</td>\n",
       "      <td>FT</td>\n",
       "      <td>Machine Learning Engineer</td>\n",
       "      <td>150000</td>\n",
       "      <td>USD</td>\n",
       "      <td>150000</td>\n",
       "      <td>US</td>\n",
       "      <td>50</td>\n",
       "      <td>US</td>\n",
       "      <td>L</td>\n",
       "    </tr>\n",
       "  </tbody>\n",
       "</table>\n",
       "</div>"
      ],
      "text/plain": [
       "   Unnamed: 0  work_year experience_level employment_type  \\\n",
       "0           0       2020               MI              FT   \n",
       "1           1       2020               SE              FT   \n",
       "2           2       2020               SE              FT   \n",
       "3           3       2020               MI              FT   \n",
       "4           4       2020               SE              FT   \n",
       "\n",
       "                    job_title  salary salary_currency  salary_in_usd  \\\n",
       "0              Data Scientist   70000             EUR          79833   \n",
       "1  Machine Learning Scientist  260000             USD         260000   \n",
       "2           Big Data Engineer   85000             GBP         109024   \n",
       "3        Product Data Analyst   20000             USD          20000   \n",
       "4   Machine Learning Engineer  150000             USD         150000   \n",
       "\n",
       "  employee_residence  remote_ratio company_location company_size  \n",
       "0                 DE             0               DE            L  \n",
       "1                 JP             0               JP            S  \n",
       "2                 GB            50               GB            M  \n",
       "3                 HN             0               HN            S  \n",
       "4                 US            50               US            L  "
      ]
     },
     "execution_count": 4,
     "metadata": {},
     "output_type": "execute_result"
    }
   ],
   "source": [
    "#Checking it imported correctly\n",
    "\n",
    "salary.head()"
   ]
  },
  {
   "cell_type": "markdown",
   "id": "93feaa98",
   "metadata": {},
   "source": [
    "# 1. Which role has the highest salary employment wise?"
   ]
  },
  {
   "cell_type": "code",
   "execution_count": 5,
   "id": "c64d3ae8",
   "metadata": {},
   "outputs": [
    {
     "name": "stdout",
     "output_type": "stream",
     "text": [
      "job_title\n",
      "Data Analytics Lead                         405000.000000\n",
      "Principal Data Engineer                     328333.333333\n",
      "Financial Data Analyst                      275000.000000\n",
      "Principal Data Scientist                    215242.428571\n",
      "Director of Data Science                    195074.000000\n",
      "Data Architect                              177873.909091\n",
      "Applied Data Scientist                      175655.000000\n",
      "Analytics Engineer                          175000.000000\n",
      "Data Specialist                             165000.000000\n",
      "Head of Data                                160162.600000\n",
      "Machine Learning Scientist                  158412.500000\n",
      "Data Science Manager                        158328.500000\n",
      "Director of Data Engineering                156738.000000\n",
      "Head of Data Science                        146718.750000\n",
      "Applied Machine Learning Scientist          142068.750000\n",
      "Lead Data Engineer                          139724.500000\n",
      "Data Analytics Manager                      127134.285714\n",
      "Cloud Data Engineer                         124647.000000\n",
      "Data Engineering Manager                    123227.200000\n",
      "Principal Data Analyst                      122500.000000\n",
      "ML Engineer                                 117504.000000\n",
      "Machine Learning Manager                    117104.000000\n",
      "Lead Data Scientist                         115190.000000\n",
      "Data Engineer                               112725.000000\n",
      "Research Scientist                          109019.500000\n",
      "Data Scientist                              108187.832168\n",
      "Computer Vision Software Engineer           105248.666667\n",
      "Staff Data Scientist                        105000.000000\n",
      "Machine Learning Engineer                   104880.146341\n",
      "Machine Learning Infrastructure Engineer    101145.000000\n",
      "Big Data Architect                           99703.000000\n",
      "Data Analyst                                 92893.061856\n",
      "Lead Data Analyst                            92203.000000\n",
      "Marketing Data Analyst                       88654.000000\n",
      "Lead Machine Learning Engineer               87932.000000\n",
      "Machine Learning Developer                   85860.666667\n",
      "Head of Machine Learning                     79039.000000\n",
      "Business Data Analyst                        76691.200000\n",
      "Data Science Engineer                        75803.333333\n",
      "BI Data Analyst                              74755.166667\n",
      "Data Science Consultant                      69420.714286\n",
      "AI Scientist                                 66135.571429\n",
      "Data Analytics Engineer                      64799.250000\n",
      "Finance Data Analyst                         61896.000000\n",
      "ETL Developer                                54957.000000\n",
      "Big Data Engineer                            51974.000000\n",
      "Computer Vision Engineer                     44419.333333\n",
      "NLP Engineer                                 37236.000000\n",
      "Product Data Analyst                         13036.000000\n",
      "3D Computer Vision Researcher                 5409.000000\n",
      "Name: salary_in_usd, dtype: float64\n"
     ]
    }
   ],
   "source": [
    "#Finding the average salary by role\n",
    "\n",
    "average_salary_by_role = salary.groupby('job_title')['salary_in_usd'].mean().sort_values(ascending=False)\n",
    "\n",
    "print(average_salary_by_role)"
   ]
  },
  {
   "cell_type": "markdown",
   "id": "48a05344",
   "metadata": {},
   "source": [
    "# 2. Which employment types do employers prefer to hire?"
   ]
  },
  {
   "cell_type": "code",
   "execution_count": 6,
   "id": "9725c664",
   "metadata": {},
   "outputs": [
    {
     "name": "stdout",
     "output_type": "stream",
     "text": [
      "FT    588\n",
      "PT     10\n",
      "CT      5\n",
      "FL      4\n",
      "Name: employment_type, dtype: int64\n"
     ]
    }
   ],
   "source": [
    "#Counting the different employment types\n",
    "\n",
    "employment_counts = salary['employment_type'].value_counts()\n",
    "\n",
    "print(employment_counts)"
   ]
  },
  {
   "cell_type": "markdown",
   "id": "4d8345d2",
   "metadata": {},
   "source": [
    "# 3. Which role are entry leveled generally hired for?"
   ]
  },
  {
   "cell_type": "code",
   "execution_count": 8,
   "id": "ffc9d042",
   "metadata": {},
   "outputs": [
    {
     "name": "stdout",
     "output_type": "stream",
     "text": [
      "Data Scientist                              143\n",
      "Data Engineer                               132\n",
      "Machine Learning Engineer                    41\n",
      "Research Scientist                           16\n",
      "Data Science Manager                         12\n",
      "Big Data Engineer                             8\n",
      "Machine Learning Scientist                    8\n",
      "AI Scientist                                  7\n",
      "Principal Data Scientist                      7\n",
      "Director of Data Science                      7\n",
      "Data Science Consultant                       7\n",
      "ML Engineer                                   6\n",
      "Computer Vision Engineer                      6\n",
      "Lead Data Engineer                            6\n",
      "Applied Data Scientist                        5\n",
      "Data Engineering Manager                      5\n",
      "Head of Data Science                          4\n",
      "Data Analytics Engineer                       4\n",
      "Analytics Engineer                            4\n",
      "Applied Machine Learning Scientist            4\n",
      "Machine Learning Infrastructure Engineer      3\n",
      "Lead Data Scientist                           3\n",
      "Computer Vision Software Engineer             3\n",
      "Data Science Engineer                         3\n",
      "Principal Data Engineer                       3\n",
      "Cloud Data Engineer                           2\n",
      "Director of Data Engineering                  2\n",
      "Staff Data Scientist                          1\n",
      "NLP Engineer                                  1\n",
      "Lead Machine Learning Engineer                1\n",
      "Name: job_title, dtype: int64\n"
     ]
    }
   ],
   "source": [
    "#Storing variable for entry level\n",
    "\n",
    "entry_level_criteria = ['EN']\n",
    "\n",
    "# Filtering the data for entry-level positions based on job title\n",
    "\n",
    "entry_level_data = salary[salary['job_title'].str.contains('|'.join(entry_level_criteria), case=False)]\n",
    "\n",
    "# Analyzing the distribution of roles in the entry-level data\n",
    "\n",
    "role_distribution = entry_level_data['job_title'].value_counts()\n",
    "\n",
    "print(role_distribution)"
   ]
  },
  {
   "cell_type": "markdown",
   "id": "3c4c9ce5",
   "metadata": {},
   "source": [
    "# 4. Which countries pay the highest for which roles?"
   ]
  },
  {
   "cell_type": "code",
   "execution_count": 9,
   "id": "f60cfc39",
   "metadata": {},
   "outputs": [
    {
     "name": "stdout",
     "output_type": "stream",
     "text": [
      "job_title                      company_location\n",
      "Data Analytics Lead            US                  405000.000000\n",
      "Principal Data Engineer        US                  328333.333333\n",
      "Director of Data Science       US                  287500.000000\n",
      "Financial Data Analyst         US                  275000.000000\n",
      "ML Engineer                    US                  263000.000000\n",
      "                                                       ...      \n",
      "Data Science Consultant        IN                    5707.000000\n",
      "3D Computer Vision Researcher  IN                    5409.000000\n",
      "Data Engineer                  IR                    4000.000000\n",
      "Data Scientist                 VN                    4000.000000\n",
      "                               MX                    2859.000000\n",
      "Name: salary_in_usd, Length: 179, dtype: float64\n"
     ]
    }
   ],
   "source": [
    "# Grouping the data by job title and country, and calculating average salaries\n",
    "\n",
    "average_salary_by_job_country = salary.groupby(['job_title', 'company_location'])['salary_in_usd'].mean().sort_values(ascending=False)\n",
    "\n",
    "print(average_salary_by_job_country)"
   ]
  },
  {
   "cell_type": "markdown",
   "id": "0236de20",
   "metadata": {},
   "source": [
    "# 5. What insights can you find regarding employee demographics?"
   ]
  },
  {
   "cell_type": "code",
   "execution_count": 10,
   "id": "1a1069ca",
   "metadata": {},
   "outputs": [
    {
     "name": "stdout",
     "output_type": "stream",
     "text": [
      "US    332\n",
      "GB     44\n",
      "IN     30\n",
      "CA     29\n",
      "DE     25\n",
      "FR     18\n",
      "ES     15\n",
      "GR     13\n",
      "JP      7\n",
      "PT      6\n",
      "BR      6\n",
      "PK      6\n",
      "NL      5\n",
      "PL      4\n",
      "IT      4\n",
      "RU      4\n",
      "AE      3\n",
      "AT      3\n",
      "VN      3\n",
      "TR      3\n",
      "AU      3\n",
      "RO      2\n",
      "BE      2\n",
      "SG      2\n",
      "SI      2\n",
      "DK      2\n",
      "HU      2\n",
      "NG      2\n",
      "MX      2\n",
      "BO      1\n",
      "MY      1\n",
      "TN      1\n",
      "IE      1\n",
      "DZ      1\n",
      "AR      1\n",
      "CZ      1\n",
      "JE      1\n",
      "LU      1\n",
      "PR      1\n",
      "RS      1\n",
      "EE      1\n",
      "CL      1\n",
      "HK      1\n",
      "KE      1\n",
      "MD      1\n",
      "CO      1\n",
      "IR      1\n",
      "CN      1\n",
      "MT      1\n",
      "UA      1\n",
      "IQ      1\n",
      "HN      1\n",
      "BG      1\n",
      "HR      1\n",
      "PH      1\n",
      "NZ      1\n",
      "CH      1\n",
      "Name: employee_residence, dtype: int64\n",
      "100    381\n",
      "0      127\n",
      "50      99\n",
      "Name: remote_ratio, dtype: int64\n"
     ]
    }
   ],
   "source": [
    "#Counting the locations of employees\n",
    "\n",
    "employee_location_count = salary['employee_residence'].value_counts()\n",
    "\n",
    "print(employee_location_count)\n",
    "\n",
    "#Counting the remote values for employees\n",
    "\n",
    "employee_remote_count = salary['remote_ratio'].value_counts()\n",
    "\n",
    "print(employee_remote_count)"
   ]
  },
  {
   "cell_type": "markdown",
   "id": "7b5f3bc9",
   "metadata": {},
   "source": [
    "# 6. Which experience level has the highest hiring?"
   ]
  },
  {
   "cell_type": "code",
   "execution_count": 11,
   "id": "cefbf02e",
   "metadata": {},
   "outputs": [
    {
     "name": "stdout",
     "output_type": "stream",
     "text": [
      "SE    280\n",
      "MI    213\n",
      "EN     88\n",
      "EX     26\n",
      "Name: experience_level, dtype: int64\n"
     ]
    }
   ],
   "source": [
    "#Counting the different experience level hiring\n",
    "\n",
    "employee_experience_count = salary['experience_level'].value_counts()\n",
    "\n",
    "print(employee_experience_count)"
   ]
  },
  {
   "cell_type": "markdown",
   "id": "7b62202f",
   "metadata": {},
   "source": [
    "# 7. Does company size affect the rate of hiring and pay scale?"
   ]
  },
  {
   "cell_type": "code",
   "execution_count": 12,
   "id": "cb17eefe",
   "metadata": {},
   "outputs": [
    {
     "data": {
      "image/png": "[encoded data removed]",
      "text/plain": [
       "<Figure size 800x600 with 1 Axes>"
      ]
     },
     "metadata": {},
     "output_type": "display_data"
    }
   ],
   "source": [
    "#Filtering columns that I need\n",
    "\n",
    "filtered_salary = salary[['company_size', 'job_title', 'salary_in_usd', 'employment_type']]\n",
    "\n",
    "# Calculating the rate of hiring and average pay scale by company size\n",
    "\n",
    "hiring_rate = filtered_salary.groupby('company_size')['job_title'].count() / filtered_salary.groupby('company_size')['job_title'].nunique()\n",
    "\n",
    "average_pay_scale = filtered_salary.groupby('company_size')['salary_in_usd'].mean()\n",
    "\n",
    "# Graphing using a scatterplot\n",
    "\n",
    "plt.figure(figsize=(8, 6))\n",
    "plt.scatter(hiring_rate.index, hiring_rate.values, label='Hiring Rate')\n",
    "plt.scatter(average_pay_scale.index, average_pay_scale.values, label='Average Pay Scale')\n",
    "plt.xlabel('Company Size')\n",
    "plt.ylabel('Value')\n",
    "plt.title('Rate of Hiring and Pay Scale')\n",
    "plt.legend()\n",
    "plt.show()"
   ]
  },
  {
   "cell_type": "markdown",
   "id": "d8675f3a",
   "metadata": {},
   "source": [
    "# 8. What is the year over year (YoY) salary growth at different levels?"
   ]
  },
  {
   "cell_type": "code",
   "execution_count": 13,
   "id": "8eaa8df1",
   "metadata": {},
   "outputs": [
    {
     "data": {
      "image/png": "[encoded data removed]",
      "text/plain": [
       "<Figure size 800x600 with 1 Axes>"
      ]
     },
     "metadata": {},
     "output_type": "display_data"
    }
   ],
   "source": [
    "# Grouping the salary data by the level and year\n",
    "\n",
    "grouped_salary = salary.groupby(['experience_level', 'work_year'])\n",
    "\n",
    "# Calculating the average salary for each year within each group\n",
    "\n",
    "average_salary_by_year = grouped_salary['salary_in_usd'].mean()\n",
    "\n",
    "# Calculating the YoY salary growth\n",
    "\n",
    "salary_growth = average_salary_by_year.groupby('experience_level').pct_change() * 100\n",
    "\n",
    "# Reset the index of salary_growth\n",
    "\n",
    "salary_growth = salary_growth.reset_index()\n",
    "\n",
    "# Graphing using a line graph\n",
    "\n",
    "plt.figure(figsize=(8, 6))\n",
    "for level in salary_growth['experience_level'].unique():\n",
    "    data = salary_growth[salary_growth['experience_level'] == level]\n",
    "    plt.plot(data['work_year'], data['salary_in_usd'], marker='o', linestyle='-', label=level)\n",
    "plt.xlabel('Work Year')\n",
    "plt.ylabel('Salary Growth (%)')\n",
    "plt.title('Year-over-Year Salary Growth by Experience Level')\n",
    "plt.legend()\n",
    "plt.show()"
   ]
  }
 ],
 "metadata": {
  "kernelspec": {
   "display_name": "Python 3 (ipykernel)",
   "language": "python",
   "name": "python3"
  },
  "language_info": {
   "codemirror_mode": {
    "name": "ipython",
    "version": 3
   },
   "file_extension": ".py",
   "mimetype": "text/x-python",
   "name": "python",
   "nbconvert_exporter": "python",
   "pygments_lexer": "ipython3",
   "version": "3.9.13"
  }
 },
 "nbformat": 4,
 "nbformat_minor": 5
}
